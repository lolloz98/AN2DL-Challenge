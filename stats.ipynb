{
 "cells": [
  {
   "cell_type": "markdown",
   "metadata": {},
   "source": [
    "# Model stats"
   ]
  },
  {
   "cell_type": "code",
   "execution_count": 1,
   "metadata": {},
   "outputs": [],
   "source": [
    "import os\n",
    "import time\n",
    "import scipy\n",
    "import random\n",
    "import matplotlib as mpl\n",
    "import matplotlib.pyplot as plt\n",
    "from PIL import Image\n",
    "import tensorflow as tf\n",
    "import numpy as np\n",
    "\n",
    "from tensorflow.keras.preprocessing.image import ImageDataGenerator\n",
    "tfk = tf.keras\n",
    "tfkl = tf.keras.layers"
   ]
  },
  {
   "cell_type": "code",
   "execution_count": 2,
   "metadata": {},
   "outputs": [],
   "source": [
    "# TODO SET ONCOLAB = TRUE IF WORKING ON COLAB\n",
    "onColab = False\n",
    "if onColab:\n",
    "  from google.colab import drive\n",
    "  drive.mount('/gdrive')\n",
    "  %cd /gdrive/MyDrive/University/ANN/CHALLENGE1/with_img_divided\n",
    "  !ls"
   ]
  },
  {
   "cell_type": "code",
   "execution_count": 3,
   "metadata": {},
   "outputs": [],
   "source": [
    "# TODO CHANGE DATASET_PATH AND PATH_TO_MODEL\n",
    "path_to_model = './SubmissionModel'\n",
    "dataset_path = './training'\n",
    "\n",
    "batch_size = 128\n",
    "validation_split = 0.3\n",
    "def tl_preprocess(x):\n",
    "  return tf.keras.applications.efficientnet.preprocess_input(x)"
   ]
  },
  {
   "cell_type": "code",
   "execution_count": 4,
   "metadata": {},
   "outputs": [],
   "source": [
    "#@title init seed everywhere\n",
    "seed =20\n",
    "\n",
    "random.seed(seed)\n",
    "os.environ['PYTHONHASHSEED'] = str(seed)\n",
    "np.random.seed(seed)\n",
    "tf.random.set_seed(seed)\n",
    "tf.compat.v1.set_random_seed(seed)"
   ]
  },
  {
   "cell_type": "code",
   "execution_count": 5,
   "metadata": {},
   "outputs": [],
   "source": [
    "img_h, img_w = (256, 256)\n",
    "\n",
    "def load_data(dontUseFun=True, fun=None, isTest = False):\n",
    "  \"\"\"\n",
    "  load data (train, val, test)\n",
    "  dontUseFun: if it's true then the data is not preprocessed. If it's false, the data is preprocessed with fun (which must not be none)\n",
    "  \"\"\"\n",
    "  image_generator = ImageDataGenerator(preprocessing_function = fun, validation_split=validation_split, \n",
    "                                          rotation_range=30,\n",
    "                                          height_shift_range=50,\n",
    "                                          width_shift_range=50,\n",
    "                                          zoom_range=0.3,\n",
    "                                          horizontal_flip=True,\n",
    "                                          vertical_flip=True, \n",
    "                                          fill_mode='reflect')  \n",
    "  if dontUseFun:\n",
    "    image_generator = ImageDataGenerator(validation_split=validation_split, \n",
    "                                          rotation_range=30,\n",
    "                                          height_shift_range=50,\n",
    "                                          width_shift_range=50,\n",
    "                                          zoom_range=0.3,\n",
    "                                          horizontal_flip=True,\n",
    "                                          vertical_flip=True, \n",
    "                                          fill_mode='reflect')  \n",
    "\n",
    "\n",
    "  # Obtain a data generator with the 'ImageDataGenerator.flow_from_directory' method\n",
    "  train_gen = image_generator.flow_from_directory(directory=dataset_path,\n",
    "                                                target_size=(img_h, img_w),\n",
    "                                                color_mode='rgb',\n",
    "                                                classes=None, # can be set to None\n",
    "                                                class_mode='categorical',\n",
    "                                                subset='training',\n",
    "                                                batch_size=batch_size,\n",
    "                                                shuffle=True,\n",
    "                                                seed=seed)\n",
    "\n",
    "  valid_gen = image_generator.flow_from_directory(directory=dataset_path,\n",
    "                                                target_size=(img_h, img_w),\n",
    "                                                color_mode='rgb',\n",
    "                                                classes=None, # can be set to None\n",
    "                                                class_mode='categorical',\n",
    "                                                subset='validation',\n",
    "                                                batch_size=batch_size,\n",
    "                                                shuffle=False,\n",
    "                                                seed=seed)\n",
    "  test_gen = None\n",
    "  if isTest:\n",
    "    test_image_gen = ImageDataGenerator(preprocessing_function = fun)\n",
    "    if dontUseFun:\n",
    "      test_image_gen = ImageDataGenerator(rotation_range=30)\n",
    "    \n",
    "    test_gen = test_image_gen.flow_from_directory(directory=test_path,\n",
    "                                                target_size=(img_h, img_w),\n",
    "                                                color_mode='rgb',\n",
    "                                                classes=None, # can be set to None\n",
    "                                                class_mode='categorical',\n",
    "                                                batch_size=batch_size,\n",
    "                                                shuffle=True, # sometimes, instead of train, we use the test for training\n",
    "                                                seed=seed)\n",
    "  return train_gen, valid_gen, test_gen"
   ]
  },
  {
   "cell_type": "code",
   "execution_count": 6,
   "metadata": {},
   "outputs": [],
   "source": [
    "def preprocess(x):\n",
    "  # x = clean_image(x)\n",
    "  if tl_preprocess:\n",
    "    return tl_preprocess(np.uint8(x))\n",
    "  return x"
   ]
  },
  {
   "cell_type": "code",
   "execution_count": 7,
   "metadata": {},
   "outputs": [
    {
     "name": "stdout",
     "output_type": "stream",
     "text": [
      "Found 12270 images belonging to 14 classes.\n",
      "Found 5248 images belonging to 14 classes.\n"
     ]
    }
   ],
   "source": [
    "train_gen, valid_gen, test_gen = load_data(False, preprocess)"
   ]
  },
  {
   "cell_type": "code",
   "execution_count": 8,
   "metadata": {},
   "outputs": [],
   "source": [
    "model = tf.keras.models.load_model(path_to_model)"
   ]
  },
  {
   "cell_type": "markdown",
   "metadata": {},
   "source": [
    "## Visualize performance"
   ]
  },
  {
   "cell_type": "code",
   "execution_count": 9,
   "metadata": {},
   "outputs": [],
   "source": [
    "labels = list(train_gen.class_indices.keys())"
   ]
  },
  {
   "cell_type": "code",
   "execution_count": 10,
   "metadata": {},
   "outputs": [
    {
     "name": "stdout",
     "output_type": "stream",
     "text": [
      "Confusion Matrix\n"
     ]
    }
   ],
   "source": [
    "from sklearn.metrics import confusion_matrix\n",
    "Y_pred = model.predict(valid_gen)\n",
    "y_pred = np.argmax(Y_pred, axis=1)\n",
    "print('Confusion Matrix')\n",
    "cm = confusion_matrix(valid_gen.classes, y_pred)"
   ]
  },
  {
   "cell_type": "code",
   "execution_count": 15,
   "metadata": {},
   "outputs": [
    {
     "name": "stdout",
     "output_type": "stream",
     "text": [
      "[[ 282    3    0    0    0    0    0    1    0    0    0    1    0    0\n",
      "     0    0    0    2    0    0    0    2    0]\n",
      " [   0    0  135    0    0    0    0    0    0    0    0    0    0    0\n",
      "     0    0    0    0    0    0    0    0    0]\n",
      " [   0    0    0  168    0    0    0    0    0    0    0    0    0    0\n",
      "     0    0    0    2    0    0    0    0    0]\n",
      " [   0    0    0    0    0  342   14    0    0    0    1    0    0    0\n",
      "     0    0    0    0    0    0    0    0    0]\n",
      " [   0    0    0    0    0    0    0  291  140    0    0    0    0    0\n",
      "     0    1    0    0    0    0    0    0    0]\n",
      " [   0    0    1    0    0    0    0    0    0  518    0    0    0    0\n",
      "     0    0    0    0    0    0    0    0    0]\n",
      " [   3    0    0    0    0    0    0    0    0    0  232   52    0    1\n",
      "     0    0    0    0    0    0    0    0    0]\n",
      " [   0    1    1    0    0    0    0    0    0    0    1    1  216    5\n",
      "     0    0    0    0    0    0    0    0    0]\n",
      " [   0    0    0    0    0    0    0    0    0    0    0    1    0    0\n",
      "    73  132    0    1    0    0    0    0    3]\n",
      " [   0    0    0    0    0    0    0    0    0    0    0    0    0    0\n",
      "     0    0   74    0    0    0    0    0    0]\n",
      " [   3    1    0    0    0    0    0    0    0    0    0    0    0    0\n",
      "     1    0    0  473    0    0    0    0    2]\n",
      " [   0    1    0    0    1    0    0    0    1    0    0    0    0    0\n",
      "     0    0    0    0  164    0    0    0    0]\n",
      " [   0    1    0    0    0    0    0    0    0    0    0    0    0    0\n",
      "     0    0    0    0    0  196    0    0    0]\n",
      " [   0   12    2    0    2    0    0    0    0    1    0    4    2    7\n",
      "     2    8    0    9    3    0    3  490 1158]\n",
      " [   0    0    0    0    0    0    0    0    0    0    0    0    0    0\n",
      "     0    0    0    0    0    0    0    0    0]\n",
      " [   0    0    0    0    0    0    0    0    0    0    0    0    0    0\n",
      "     0    0    0    0    0    0    0    0    0]\n",
      " [   0    0    0    0    0    0    0    0    0    0    0    0    0    0\n",
      "     0    0    0    0    0    0    0    0    0]\n",
      " [   0    0    0    0    0    0    0    0    0    0    0    0    0    0\n",
      "     0    0    0    0    0    0    0    0    0]\n",
      " [   0    0    0    0    0    0    0    0    0    0    0    0    0    0\n",
      "     0    0    0    0    0    0    0    0    0]\n",
      " [   0    0    0    0    0    0    0    0    0    0    0    0    0    0\n",
      "     0    0    0    0    0    0    0    0    0]\n",
      " [   0    0    0    0    0    0    0    0    0    0    0    0    0    0\n",
      "     0    0    0    0    0    0    0    0    0]\n",
      " [   0    0    0    0    0    0    0    0    0    0    0    0    0    0\n",
      "     0    0    0    0    0    0    0    0    0]\n",
      " [   0    0    0    0    0    0    0    0    0    0    0    0    0    0\n",
      "     0    0    0    0    0    0    0    0    0]]\n"
     ]
    }
   ],
   "source": [
    "print(cm)"
   ]
  },
  {
   "cell_type": "code",
   "execution_count": 11,
   "metadata": {},
   "outputs": [
    {
     "name": "stdout",
     "output_type": "stream",
     "text": [
      "Accuracy: 0.0551\n",
      "Precision: 0.066\n",
      "Recall: 0.0423\n",
      "F1: 0.0427\n"
     ]
    },
    {
     "name": "stderr",
     "output_type": "stream",
     "text": [
      "c:\\Users\\carpa\\Desktop\\Challenge\\venv\\lib\\site-packages\\sklearn\\metrics\\_classification.py:1308: UndefinedMetricWarning: Recall is ill-defined and being set to 0.0 in labels with no true samples. Use `zero_division` parameter to control this behavior.\n",
      "  _warn_prf(average, modifier, msg_start, len(result))\n"
     ]
    }
   ],
   "source": [
    "# # Compute the classification metrics\n",
    "from sklearn.metrics import accuracy_score, f1_score, precision_score, recall_score\n",
    "target = valid_gen.classes\n",
    "predictions = Y_pred\n",
    "accuracy = accuracy_score(target, np.argmax(predictions, axis=1))\n",
    "precision = precision_score(target, np.argmax(predictions, axis=1), average='macro')\n",
    "recall = recall_score(target, np.argmax(predictions, axis=1), average='macro')\n",
    "f1 = f1_score(target, np.argmax(predictions, axis=1), average='macro')\n",
    "print('Accuracy:',accuracy.round(4))\n",
    "print('Precision:',precision.round(4))\n",
    "print('Recall:',recall.round(4))\n",
    "print('F1:',f1.round(4))"
   ]
  },
  {
   "cell_type": "code",
   "execution_count": null,
   "metadata": {},
   "outputs": [],
   "source": [
    "!pip install seaborn"
   ]
  },
  {
   "cell_type": "code",
   "execution_count": null,
   "metadata": {},
   "outputs": [],
   "source": [
    "# Let's replot the heatmap but this time we put vmax = 200, so that tomatoes don't cloud the colors of the heatmap and we can visualize the distribution a bit better\n",
    "import seaborn as sns\n",
    "plt.figure(figsize=(10,8))\n",
    "sns.heatmap(cm.T, xticklabels=labels, yticklabels=labels, vmax=200)\n",
    "plt.xlabel('True labels')\n",
    "plt.ylabel('Predicted labels')\n",
    "plt.show()"
   ]
  },
  {
   "cell_type": "markdown",
   "metadata": {},
   "source": [
    "## Visualize model"
   ]
  },
  {
   "cell_type": "code",
   "execution_count": 13,
   "metadata": {},
   "outputs": [
    {
     "name": "stdout",
     "output_type": "stream",
     "text": [
      "Model: \"model\"\n",
      "_________________________________________________________________\n",
      " Layer (type)                Output Shape              Param #   \n",
      "=================================================================\n",
      " input_2 (InputLayer)        [(None, 256, 256, 3)]     0         \n",
      "                                                                 \n",
      " efficientnetb0 (Functional)  (None, 8, 8, 1280)       4049571   \n",
      "                                                                 \n",
      " avg_pool (GlobalAveragePool  (None, 1280)             0         \n",
      " ing2D)                                                          \n",
      "                                                                 \n",
      " batch_normalization (BatchN  (None, 1280)             5120      \n",
      " ormalization)                                                   \n",
      "                                                                 \n",
      " dropout (Dropout)           (None, 1280)              0         \n",
      "                                                                 \n",
      " dense (Dense)               (None, 23)                29463     \n",
      "                                                                 \n",
      "=================================================================\n",
      "Total params: 4,084,154\n",
      "Trainable params: 32,023\n",
      "Non-trainable params: 4,052,131\n",
      "_________________________________________________________________\n"
     ]
    }
   ],
   "source": [
    "model.summary()"
   ]
  },
  {
   "cell_type": "code",
   "execution_count": 14,
   "metadata": {},
   "outputs": [
    {
     "name": "stdout",
     "output_type": "stream",
     "text": [
      "Requirement already satisfied: visualkeras in c:\\users\\carpa\\desktop\\challenge\\venv\\lib\\site-packages (0.0.2)\n",
      "Requirement already satisfied: aggdraw>=1.3.11 in c:\\users\\carpa\\desktop\\challenge\\venv\\lib\\site-packages (from visualkeras) (1.3.12)\n",
      "Requirement already satisfied: numpy>=1.18.1 in c:\\users\\carpa\\desktop\\challenge\\venv\\lib\\site-packages (from visualkeras) (1.21.4)\n",
      "Requirement already satisfied: pillow>=6.2.0 in c:\\users\\carpa\\desktop\\challenge\\venv\\lib\\site-packages (from visualkeras) (8.4.0)\n"
     ]
    },
    {
     "name": "stderr",
     "output_type": "stream",
     "text": [
      "WARNING: You are using pip version 21.1.1; however, version 21.3.1 is available.\n",
      "You should consider upgrading via the 'c:\\users\\carpa\\desktop\\challenge\\venv\\scripts\\python.exe -m pip install --upgrade pip' command.\n"
     ]
    },
    {
     "data": {
      "image/png": "[encoded data removed]",
      "text/plain": [
       "<PIL.Image.Image image mode=RGBA size=768x703 at 0x258C9F90A60>"
      ]
     },
     "execution_count": 14,
     "metadata": {},
     "output_type": "execute_result"
    }
   ],
   "source": [
    "!pip install visualkeras\n",
    "import visualkeras\n",
    "visualkeras.layered_view(model, legend=True, spacing=20, scale_xy=5, max_xy=500)"
   ]
  }
 ],
 "metadata": {
  "interpreter": {
   "hash": "ed9b588bb7e7d983fd3ca5f90690b3f98b38ff7d3726e4a36d7a208de5b925c1"
  },
  "kernelspec": {
   "display_name": "Python 3.8.10 64-bit ('venv': venv)",
   "language": "python",
   "name": "python3"
  },
  "language_info": {
   "codemirror_mode": {
    "name": "ipython",
    "version": 3
   },
   "file_extension": ".py",
   "mimetype": "text/x-python",
   "name": "python",
   "nbconvert_exporter": "python",
   "pygments_lexer": "ipython3",
   "version": "3.8.10"
  },
  "orig_nbformat": 4
 },
 "nbformat": 4,
 "nbformat_minor": 2
}
